{
  "nbformat": 4,
  "nbformat_minor": 0,
  "metadata": {
    "colab": {
      "name": "Intelligent Systems Final Project.ipynb",
      "provenance": [],
      "collapsed_sections": [],
      "include_colab_link": true
    },
    "kernelspec": {
      "name": "python3",
      "display_name": "Python 3"
    }
  },
  "cells": [
    {
      "cell_type": "markdown",
      "metadata": {
        "id": "view-in-github",
        "colab_type": "text"
      },
      "source": [
        "<a href=\"https://colab.research.google.com/github/Jbarlian/IS_finalproject/blob/master/Intelligent_Systems_Final_Project.ipynb\" target=\"_parent\"><img src=\"https://colab.research.google.com/assets/colab-badge.svg\" alt=\"Open In Colab\"/></a>"
      ]
    },
    {
      "cell_type": "code",
      "metadata": {
        "id": "r2dirQczFnUH",
        "colab_type": "code",
        "colab": {}
      },
      "source": [
        "import pandas as pd\n",
        "import numpy as np\n",
        "from sklearn.feature_extraction.text import CountVectorizer\n",
        "from sklearn.metrics.pairwise import cosine_similarity\n",
        "\n",
        "url = 'https://raw.githubusercontent.com/codeheroku/Introduction-to-Machine-Learning/master/Building%20a%20Movie%20Recommendation%20Engine/movie_dataset.csv'\n",
        "df = pd.read_csv(url)\n",
        "\n",
        "features = ['keywords','cast','genres','director']\n",
        "\n",
        "def combine_features(row):\n",
        "    return row['keywords']+\" \"+row['cast']+\" \"+row['genres']+\" \"+row['director']  \n",
        "\n",
        "for feature in features:\n",
        "    df[feature] = df[feature].fillna('') #filling all NaNs with blank string\n",
        "\n",
        "df[\"combined_features\"] = df.apply(combine_features,axis=1) #applying combined_features() method over each rows of dataframe and storing the combined string in \"combined_features\" column"
      ],
      "execution_count": 0,
      "outputs": []
    },
    {
      "cell_type": "code",
      "metadata": {
        "id": "3mkSy9FPWHBX",
        "colab_type": "code",
        "colab": {}
      },
      "source": [
        "cv = CountVectorizer() #creating new CountVectorizer() object\n",
        "count_matrix = cv.fit_transform(df[\"combined_features\"]) #feeding combined strings(movie contents) to CountVectorizer() object\n",
        "\n",
        "cosine_sim = cosine_similarity(count_matrix)"
      ],
      "execution_count": 0,
      "outputs": []
    },
    {
      "cell_type": "code",
      "metadata": {
        "id": "mWSsPpiuWk7S",
        "colab_type": "code",
        "colab": {}
      },
      "source": [
        "def get_title_from_index(index):\n",
        "    return df[df.index == index][\"title\"].values[0]\n",
        "\n",
        "def get_index_from_title(title):\n",
        "    return df[df.title == title][\"index\"].values[0]\n",
        "\n",
        "def get_director_from_index(index):\n",
        "    return df[df.index == index][\"director\"].values[0]\n",
        "\n",
        "def get_index_from_director(director):\n",
        "    return df[df.director == director][\"index\"].values[0]\n",
        "\n",
        "def get_genres_from_index(index):\n",
        "    return df[df.index == index][\"genres\"].values[0]   \n",
        "    \n",
        "def get_index_from_genres(genres):\n",
        "    return df[df.genres == genres][\"index\"].values[0] "
      ],
      "execution_count": 0,
      "outputs": []
    },
    {
      "cell_type": "code",
      "metadata": {
        "id": "koPbIoGbX94j",
        "colab_type": "code",
        "outputId": "ef2fd729-26ab-4243-9e7c-e00f8fd5ca19",
        "colab": {
          "base_uri": "https://localhost:8080/",
          "height": 357
        }
      },
      "source": [
        "#accessing the row corresponding to given movie to find all the similarity scores for that movie and then enumerating over it\n",
        "\n",
        "i=0\n",
        "\n",
        "choice = input(\"1) For search by Title\\n2) For search by Director\\n3) For search by Genre\\nEnter your choice: \")\n",
        "\n",
        "if choice == '1':\n",
        "    movie_user_likes = input(\"\\nEnter a Movie Title: \")\n",
        "    movie_index = get_index_from_title(movie_user_likes)\n",
        "    similar_movies = list(enumerate(cosine_sim[movie_index]))\n",
        "    sorted_similar_movies = sorted(similar_movies,key=lambda x:x[1],reverse=True)[1:]\n",
        "    print(\"\\nTop 10 similar movies to \"+movie_user_likes+\" are:\\n\")\n",
        "\n",
        "    for element in sorted_similar_movies:\n",
        "      print(get_title_from_index(element[0]))\n",
        "      i=i+1\n",
        "      if i>10:\n",
        "          break\n",
        "\n",
        "if choice == '2':\n",
        "    director_user_likes = input(\"\\nEnter a Director: \")\n",
        "    director_index = get_index_from_director(director_user_likes)\n",
        "    similar_director = list(enumerate(cosine_sim[director_index]))\n",
        "    sorted_similar_director = sorted(similar_director,key=lambda x:x[1],reverse=True)[1:]\n",
        "    print(\"\\nTop 10 movies by \"+director_user_likes+\" are:\\n\")\n",
        "\n",
        "    for element in sorted_similar_director:\n",
        "        print(get_title_from_index(element[0]))\n",
        "        i=i+1\n",
        "        if i>10:\n",
        "            break\n",
        "\n",
        "if choice == '3':\n",
        "    genres_user_likes = input(\"\\nEnter a Genre: \")\n",
        "    genres_index = get_index_from_genres(genres_user_likes)\n",
        "    similar_genres = list(enumerate(cosine_sim[genres_index]))\n",
        "    sorted_similar_genres = sorted(similar_genres,key=lambda x:x[1],reverse=True)[1:]\n",
        "    print(\"\\nTop 10 \"+genres_user_likes+\" movies are:\\n\")\n",
        "\n",
        "    for element in sorted_similar_genres:\n",
        "        print(get_title_from_index(element[0]))\n",
        "        i=i+1\n",
        "        if i>10:\n",
        "            break\n"
      ],
      "execution_count": 9,
      "outputs": [
        {
          "output_type": "stream",
          "text": [
            "1) For search by Title\n",
            "2) For search by Director\n",
            "3) For search by Genre\n",
            "Enter your choice: 3\n",
            "\n",
            "Enter a Genre: Fantasy\n",
            "\n",
            "Top 10 Fantasy movies are:\n",
            "\n",
            "Alice in Wonderland\n",
            "Ella Enchanted\n",
            "Corpse Bride\n",
            "Howards End\n",
            "The Lone Ranger\n",
            "Dark Shadows\n",
            "The Other Side of Heaven\n",
            "Charlie and the Chocolate Factory\n",
            "Die Hard\n",
            "The Little Vampire\n",
            "Sense and Sensibility\n"
          ],
          "name": "stdout"
        }
      ]
    }
  ]
}